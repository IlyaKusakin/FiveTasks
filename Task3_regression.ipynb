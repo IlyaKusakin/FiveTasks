{
  "nbformat": 4,
  "nbformat_minor": 0,
  "metadata": {
    "colab": {
      "name": "Task3_regression.ipynb",
      "provenance": [],
      "collapsed_sections": []
    },
    "kernelspec": {
      "name": "python3",
      "display_name": "Python 3"
    }
  },
  "cells": [
    {
      "cell_type": "code",
      "metadata": {
        "id": "Cyd-xBaJUDcj"
      },
      "source": [
        "import pandas as pd\r\n",
        "import numpy as np\r\n",
        "import matplotlib.pyplot as plt\r\n",
        "import seaborn as sns\r\n",
        "from sklearn.ensemble import RandomForestRegressor\r\n",
        "from sklearn.model_selection import train_test_split, RandomizedSearchCV\r\n",
        "from sklearn import metrics\r\n",
        "import xgboost as xgb"
      ],
      "execution_count": 1,
      "outputs": []
    },
    {
      "cell_type": "markdown",
      "metadata": {
        "id": "SOXuDKd0YTvo"
      },
      "source": [
        "## Импорт данных"
      ]
    },
    {
      "cell_type": "code",
      "metadata": {
        "colab": {
          "base_uri": "https://localhost:8080/",
          "height": 202
        },
        "id": "UY9rl31PUHEb",
        "outputId": "a4e6c1f6-6b26-409c-8dab-b1912df67f97"
      },
      "source": [
        "data = pd.read_csv('/content/drive/MyDrive/sasha_test/regression.csv')\r\n",
        "data.head()"
      ],
      "execution_count": 2,
      "outputs": [
        {
          "output_type": "execute_result",
          "data": {
            "text/html": [
              "<div>\n",
              "<style scoped>\n",
              "    .dataframe tbody tr th:only-of-type {\n",
              "        vertical-align: middle;\n",
              "    }\n",
              "\n",
              "    .dataframe tbody tr th {\n",
              "        vertical-align: top;\n",
              "    }\n",
              "\n",
              "    .dataframe thead th {\n",
              "        text-align: right;\n",
              "    }\n",
              "</style>\n",
              "<table border=\"1\" class=\"dataframe\">\n",
              "  <thead>\n",
              "    <tr style=\"text-align: right;\">\n",
              "      <th></th>\n",
              "      <th>PERIOD</th>\n",
              "      <th>cl_id</th>\n",
              "      <th>MCC</th>\n",
              "      <th>channel_type</th>\n",
              "      <th>currency</th>\n",
              "      <th>TRDATETIME</th>\n",
              "      <th>amount</th>\n",
              "      <th>trx_category</th>\n",
              "      <th>target_flag</th>\n",
              "      <th>target_sum</th>\n",
              "    </tr>\n",
              "  </thead>\n",
              "  <tbody>\n",
              "    <tr>\n",
              "      <th>0</th>\n",
              "      <td>01/10/2017</td>\n",
              "      <td>0</td>\n",
              "      <td>5200</td>\n",
              "      <td>NaN</td>\n",
              "      <td>810</td>\n",
              "      <td>21OCT17:00:00:00</td>\n",
              "      <td>5023.0</td>\n",
              "      <td>POS</td>\n",
              "      <td>0</td>\n",
              "      <td>0.0</td>\n",
              "    </tr>\n",
              "    <tr>\n",
              "      <th>1</th>\n",
              "      <td>01/10/2017</td>\n",
              "      <td>0</td>\n",
              "      <td>6011</td>\n",
              "      <td>NaN</td>\n",
              "      <td>810</td>\n",
              "      <td>12OCT17:12:24:07</td>\n",
              "      <td>20000.0</td>\n",
              "      <td>DEPOSIT</td>\n",
              "      <td>0</td>\n",
              "      <td>0.0</td>\n",
              "    </tr>\n",
              "    <tr>\n",
              "      <th>2</th>\n",
              "      <td>01/12/2017</td>\n",
              "      <td>0</td>\n",
              "      <td>5921</td>\n",
              "      <td>NaN</td>\n",
              "      <td>810</td>\n",
              "      <td>05DEC17:00:00:00</td>\n",
              "      <td>767.0</td>\n",
              "      <td>POS</td>\n",
              "      <td>0</td>\n",
              "      <td>0.0</td>\n",
              "    </tr>\n",
              "    <tr>\n",
              "      <th>3</th>\n",
              "      <td>01/10/2017</td>\n",
              "      <td>0</td>\n",
              "      <td>5411</td>\n",
              "      <td>NaN</td>\n",
              "      <td>810</td>\n",
              "      <td>21OCT17:00:00:00</td>\n",
              "      <td>2031.0</td>\n",
              "      <td>POS</td>\n",
              "      <td>0</td>\n",
              "      <td>0.0</td>\n",
              "    </tr>\n",
              "    <tr>\n",
              "      <th>4</th>\n",
              "      <td>01/10/2017</td>\n",
              "      <td>0</td>\n",
              "      <td>6012</td>\n",
              "      <td>NaN</td>\n",
              "      <td>810</td>\n",
              "      <td>24OCT17:13:14:24</td>\n",
              "      <td>36562.0</td>\n",
              "      <td>C2C_OUT</td>\n",
              "      <td>0</td>\n",
              "      <td>0.0</td>\n",
              "    </tr>\n",
              "  </tbody>\n",
              "</table>\n",
              "</div>"
            ],
            "text/plain": [
              "       PERIOD  cl_id   MCC  ... trx_category  target_flag target_sum\n",
              "0  01/10/2017      0  5200  ...          POS            0        0.0\n",
              "1  01/10/2017      0  6011  ...      DEPOSIT            0        0.0\n",
              "2  01/12/2017      0  5921  ...          POS            0        0.0\n",
              "3  01/10/2017      0  5411  ...          POS            0        0.0\n",
              "4  01/10/2017      0  6012  ...      C2C_OUT            0        0.0\n",
              "\n",
              "[5 rows x 10 columns]"
            ]
          },
          "metadata": {
            "tags": []
          },
          "execution_count": 2
        }
      ]
    },
    {
      "cell_type": "markdown",
      "metadata": {
        "id": "jdkymBHOU_QS"
      },
      "source": [
        "## Анализ целевой переменной"
      ]
    },
    {
      "cell_type": "markdown",
      "metadata": {
        "id": "KAxOoOSGYcKo"
      },
      "source": [
        "Построим распределение *target_sum*"
      ]
    },
    {
      "cell_type": "code",
      "metadata": {
        "colab": {
          "base_uri": "https://localhost:8080/",
          "height": 291
        },
        "id": "qT0JjIE9Yifs",
        "outputId": "0e49436a-110c-4467-b455-700984f72dea"
      },
      "source": [
        "snsplot = sns.kdeplot(data['target_sum'], shade=True, )\r\n",
        "fig = snsplot.get_figure()\r\n",
        "fig.set_size_inches(6, 4)"
      ],
      "execution_count": 3,
      "outputs": [
        {
          "output_type": "display_data",
          "data": {
            "image/png": "[encoded data removed]",
            "text/plain": [
              "<Figure size 432x288 with 1 Axes>"
            ]
          },
          "metadata": {
            "tags": [],
            "needs_background": "light"
          }
        }
      ]
    },
    {
      "cell_type": "markdown",
      "metadata": {
        "id": "nyQPbuXZYweI"
      },
      "source": [
        "Слишком большие значения переменной, прологарифмируем переменную."
      ]
    },
    {
      "cell_type": "code",
      "metadata": {
        "colab": {
          "base_uri": "https://localhost:8080/",
          "height": 334
        },
        "id": "tM0aXw-ZYbi-",
        "outputId": "7fb4cc98-b3b3-484b-f5a3-eefd5e2133a0"
      },
      "source": [
        "snsplot = sns.kdeplot(np.log(data['target_sum']+1), shade=True)\r\n",
        "fig = snsplot.get_figure()\r\n",
        "fig.set_size_inches(10, 5)"
      ],
      "execution_count": 4,
      "outputs": [
        {
          "output_type": "display_data",
          "data": {
            "image/png": "[encoded data removed]",
            "text/plain": [
              "<Figure size 720x360 with 1 Axes>"
            ]
          },
          "metadata": {
            "tags": [],
            "needs_background": "light"
          }
        }
      ]
    },
    {
      "cell_type": "markdown",
      "metadata": {
        "id": "kRN6A-n1Zere"
      },
      "source": [
        "Наблюдается бимодальное распределение. Проанализируем связь переменных *target_flag* и *target_sum*."
      ]
    },
    {
      "cell_type": "markdown",
      "metadata": {
        "id": "CiYwL434aIy1"
      },
      "source": [
        "Построим распределение для семплов с *target_flag* == 0 "
      ]
    },
    {
      "cell_type": "code",
      "metadata": {
        "colab": {
          "base_uri": "https://localhost:8080/",
          "height": 280
        },
        "id": "IK-3WKrRZ8I8",
        "outputId": "a59cf0f2-d91c-4104-f345-658e269b82fe"
      },
      "source": [
        "snsplot = sns.kdeplot(np.log(data['target_sum'][data['target_flag'] == 1]+1), shade=True)\r\n",
        "fig = snsplot.get_figure()\r\n",
        "fig.set_size_inches(6, 4)"
      ],
      "execution_count": 5,
      "outputs": [
        {
          "output_type": "display_data",
          "data": {
            "image/png": "[encoded data removed]",
            "text/plain": [
              "<Figure size 432x288 with 1 Axes>"
            ]
          },
          "metadata": {
            "tags": [],
            "needs_background": "light"
          }
        }
      ]
    },
    {
      "cell_type": "markdown",
      "metadata": {
        "id": "iPFYlQQ4aUcj"
      },
      "source": [
        "Левая мода около значения ноль полностью отсеклась."
      ]
    },
    {
      "cell_type": "markdown",
      "metadata": {
        "id": "DBJ19Qe3bJav"
      },
      "source": [
        "* Сумма по переменной *target_sum* для семплов *target_flag*==0  равна нулю.\r\n",
        "\r\n",
        "* При этом значение '0' переменной *target_flag* однозначно определяет нулевое значение для *target_sum*"
      ]
    },
    {
      "cell_type": "code",
      "metadata": {
        "colab": {
          "base_uri": "https://localhost:8080/"
        },
        "id": "qs7Ku7QbadnQ",
        "outputId": "a3180480-540f-4f2a-bebf-3be6d6a1fda5"
      },
      "source": [
        "print(sum(data['target_sum'][data['target_flag'] == 0]))\r\n",
        "print(sum(data['target_flag'][data['target_sum'] == 0]))"
      ],
      "execution_count": 6,
      "outputs": [
        {
          "output_type": "stream",
          "text": [
            "0.0\n",
            "0\n"
          ],
          "name": "stdout"
        }
      ]
    },
    {
      "cell_type": "markdown",
      "metadata": {
        "id": "RYUlMRG-Pbx8"
      },
      "source": [
        "## Анализ признаков"
      ]
    },
    {
      "cell_type": "markdown",
      "metadata": {
        "id": "uT2UAycfV8wu"
      },
      "source": [
        "Подсчитаем средние значения *target_sum* по категориям дискретных признаков."
      ]
    },
    {
      "cell_type": "code",
      "metadata": {
        "colab": {
          "base_uri": "https://localhost:8080/",
          "height": 662
        },
        "id": "3egsFOQzPi1c",
        "outputId": "96a1a6e4-ee82-49cf-85ec-42fd95d50094"
      },
      "source": [
        "data[data['target_flag'] != 0].groupby(\"PERIOD\").apply(lambda x: x.mean())"
      ],
      "execution_count": null,
      "outputs": [
        {
          "output_type": "execute_result",
          "data": {
            "text/html": [
              "<div>\n",
              "<style scoped>\n",
              "    .dataframe tbody tr th:only-of-type {\n",
              "        vertical-align: middle;\n",
              "    }\n",
              "\n",
              "    .dataframe tbody tr th {\n",
              "        vertical-align: top;\n",
              "    }\n",
              "\n",
              "    .dataframe thead th {\n",
              "        text-align: right;\n",
              "    }\n",
              "</style>\n",
              "<table border=\"1\" class=\"dataframe\">\n",
              "  <thead>\n",
              "    <tr style=\"text-align: right;\">\n",
              "      <th></th>\n",
              "      <th>cl_id</th>\n",
              "      <th>MCC</th>\n",
              "      <th>currency</th>\n",
              "      <th>amount</th>\n",
              "      <th>target_flag</th>\n",
              "      <th>target_sum</th>\n",
              "    </tr>\n",
              "    <tr>\n",
              "      <th>PERIOD</th>\n",
              "      <th></th>\n",
              "      <th></th>\n",
              "      <th></th>\n",
              "      <th></th>\n",
              "      <th></th>\n",
              "      <th></th>\n",
              "    </tr>\n",
              "  </thead>\n",
              "  <tbody>\n",
              "    <tr>\n",
              "      <th>01/01/2017</th>\n",
              "      <td>5663.975764</td>\n",
              "      <td>5705.032453</td>\n",
              "      <td>810.209868</td>\n",
              "      <td>7606.277028</td>\n",
              "      <td>1.0</td>\n",
              "      <td>2.668997e+05</td>\n",
              "    </tr>\n",
              "    <tr>\n",
              "      <th>01/01/2018</th>\n",
              "      <td>3164.356138</td>\n",
              "      <td>5775.755668</td>\n",
              "      <td>815.723221</td>\n",
              "      <td>5242.633628</td>\n",
              "      <td>1.0</td>\n",
              "      <td>2.524755e+05</td>\n",
              "    </tr>\n",
              "    <tr>\n",
              "      <th>01/02/2017</th>\n",
              "      <td>5067.149793</td>\n",
              "      <td>5700.491175</td>\n",
              "      <td>811.034387</td>\n",
              "      <td>5472.190737</td>\n",
              "      <td>1.0</td>\n",
              "      <td>1.414485e+05</td>\n",
              "    </tr>\n",
              "    <tr>\n",
              "      <th>01/02/2018</th>\n",
              "      <td>2916.272863</td>\n",
              "      <td>5795.509940</td>\n",
              "      <td>807.187873</td>\n",
              "      <td>4052.072783</td>\n",
              "      <td>1.0</td>\n",
              "      <td>1.765858e+05</td>\n",
              "    </tr>\n",
              "    <tr>\n",
              "      <th>01/03/2017</th>\n",
              "      <td>4129.059406</td>\n",
              "      <td>5703.420921</td>\n",
              "      <td>809.222772</td>\n",
              "      <td>5582.500317</td>\n",
              "      <td>1.0</td>\n",
              "      <td>2.347547e+05</td>\n",
              "    </tr>\n",
              "    <tr>\n",
              "      <th>01/03/2018</th>\n",
              "      <td>2574.833550</td>\n",
              "      <td>5783.244473</td>\n",
              "      <td>825.042913</td>\n",
              "      <td>3416.561801</td>\n",
              "      <td>1.0</td>\n",
              "      <td>2.130618e+05</td>\n",
              "    </tr>\n",
              "    <tr>\n",
              "      <th>01/04/2017</th>\n",
              "      <td>3623.795311</td>\n",
              "      <td>5692.939319</td>\n",
              "      <td>808.428577</td>\n",
              "      <td>5371.478911</td>\n",
              "      <td>1.0</td>\n",
              "      <td>2.664282e+05</td>\n",
              "    </tr>\n",
              "    <tr>\n",
              "      <th>01/04/2018</th>\n",
              "      <td>2199.629630</td>\n",
              "      <td>5844.111111</td>\n",
              "      <td>816.481481</td>\n",
              "      <td>6393.868889</td>\n",
              "      <td>1.0</td>\n",
              "      <td>2.098063e+05</td>\n",
              "    </tr>\n",
              "    <tr>\n",
              "      <th>01/05/2017</th>\n",
              "      <td>3302.049566</td>\n",
              "      <td>5710.840724</td>\n",
              "      <td>811.030318</td>\n",
              "      <td>4999.241619</td>\n",
              "      <td>1.0</td>\n",
              "      <td>2.555838e+05</td>\n",
              "    </tr>\n",
              "    <tr>\n",
              "      <th>01/06/2017</th>\n",
              "      <td>3194.027564</td>\n",
              "      <td>5688.942383</td>\n",
              "      <td>810.534448</td>\n",
              "      <td>4817.675889</td>\n",
              "      <td>1.0</td>\n",
              "      <td>2.255034e+05</td>\n",
              "    </tr>\n",
              "    <tr>\n",
              "      <th>01/07/2017</th>\n",
              "      <td>3163.434429</td>\n",
              "      <td>5698.062002</td>\n",
              "      <td>811.301907</td>\n",
              "      <td>4599.941691</td>\n",
              "      <td>1.0</td>\n",
              "      <td>1.784229e+05</td>\n",
              "    </tr>\n",
              "    <tr>\n",
              "      <th>01/08/2017</th>\n",
              "      <td>3146.775142</td>\n",
              "      <td>5710.842167</td>\n",
              "      <td>810.941974</td>\n",
              "      <td>5368.546027</td>\n",
              "      <td>1.0</td>\n",
              "      <td>1.866885e+05</td>\n",
              "    </tr>\n",
              "    <tr>\n",
              "      <th>01/09/2017</th>\n",
              "      <td>2897.540332</td>\n",
              "      <td>5712.719272</td>\n",
              "      <td>809.678210</td>\n",
              "      <td>6622.215113</td>\n",
              "      <td>1.0</td>\n",
              "      <td>1.850105e+05</td>\n",
              "    </tr>\n",
              "    <tr>\n",
              "      <th>01/10/2016</th>\n",
              "      <td>5527.511025</td>\n",
              "      <td>5671.742558</td>\n",
              "      <td>810.730981</td>\n",
              "      <td>6148.505154</td>\n",
              "      <td>1.0</td>\n",
              "      <td>1.842357e+06</td>\n",
              "    </tr>\n",
              "    <tr>\n",
              "      <th>01/10/2017</th>\n",
              "      <td>3037.169971</td>\n",
              "      <td>5744.482238</td>\n",
              "      <td>809.933682</td>\n",
              "      <td>5802.658527</td>\n",
              "      <td>1.0</td>\n",
              "      <td>2.051201e+05</td>\n",
              "    </tr>\n",
              "    <tr>\n",
              "      <th>01/11/2016</th>\n",
              "      <td>5980.715993</td>\n",
              "      <td>5721.553887</td>\n",
              "      <td>806.529586</td>\n",
              "      <td>5810.678550</td>\n",
              "      <td>1.0</td>\n",
              "      <td>6.756049e+05</td>\n",
              "    </tr>\n",
              "    <tr>\n",
              "      <th>01/11/2017</th>\n",
              "      <td>3352.372841</td>\n",
              "      <td>5742.524601</td>\n",
              "      <td>811.037612</td>\n",
              "      <td>5932.250306</td>\n",
              "      <td>1.0</td>\n",
              "      <td>2.347044e+05</td>\n",
              "    </tr>\n",
              "    <tr>\n",
              "      <th>01/12/2016</th>\n",
              "      <td>5944.927231</td>\n",
              "      <td>5696.541957</td>\n",
              "      <td>809.208760</td>\n",
              "      <td>6199.456585</td>\n",
              "      <td>1.0</td>\n",
              "      <td>3.465283e+05</td>\n",
              "    </tr>\n",
              "    <tr>\n",
              "      <th>01/12/2017</th>\n",
              "      <td>3437.114371</td>\n",
              "      <td>5750.049478</td>\n",
              "      <td>808.575336</td>\n",
              "      <td>4892.453312</td>\n",
              "      <td>1.0</td>\n",
              "      <td>2.494692e+05</td>\n",
              "    </tr>\n",
              "  </tbody>\n",
              "</table>\n",
              "</div>"
            ],
            "text/plain": [
              "                  cl_id          MCC  ...  target_flag    target_sum\n",
              "PERIOD                                ...                           \n",
              "01/01/2017  5663.975764  5705.032453  ...          1.0  2.668997e+05\n",
              "01/01/2018  3164.356138  5775.755668  ...          1.0  2.524755e+05\n",
              "01/02/2017  5067.149793  5700.491175  ...          1.0  1.414485e+05\n",
              "01/02/2018  2916.272863  5795.509940  ...          1.0  1.765858e+05\n",
              "01/03/2017  4129.059406  5703.420921  ...          1.0  2.347547e+05\n",
              "01/03/2018  2574.833550  5783.244473  ...          1.0  2.130618e+05\n",
              "01/04/2017  3623.795311  5692.939319  ...          1.0  2.664282e+05\n",
              "01/04/2018  2199.629630  5844.111111  ...          1.0  2.098063e+05\n",
              "01/05/2017  3302.049566  5710.840724  ...          1.0  2.555838e+05\n",
              "01/06/2017  3194.027564  5688.942383  ...          1.0  2.255034e+05\n",
              "01/07/2017  3163.434429  5698.062002  ...          1.0  1.784229e+05\n",
              "01/08/2017  3146.775142  5710.842167  ...          1.0  1.866885e+05\n",
              "01/09/2017  2897.540332  5712.719272  ...          1.0  1.850105e+05\n",
              "01/10/2016  5527.511025  5671.742558  ...          1.0  1.842357e+06\n",
              "01/10/2017  3037.169971  5744.482238  ...          1.0  2.051201e+05\n",
              "01/11/2016  5980.715993  5721.553887  ...          1.0  6.756049e+05\n",
              "01/11/2017  3352.372841  5742.524601  ...          1.0  2.347044e+05\n",
              "01/12/2016  5944.927231  5696.541957  ...          1.0  3.465283e+05\n",
              "01/12/2017  3437.114371  5750.049478  ...          1.0  2.494692e+05\n",
              "\n",
              "[19 rows x 6 columns]"
            ]
          },
          "metadata": {
            "tags": []
          },
          "execution_count": 125
        }
      ]
    },
    {
      "cell_type": "markdown",
      "metadata": {
        "id": "ri-0SYDrVswT"
      },
      "source": [
        "Средние значения целевой переменной по периодам имеют схожие значения, но встречаются месяцы в которых средняя *target_sum* заметно отличается от среднего по датасету, например 11/2016."
      ]
    },
    {
      "cell_type": "code",
      "metadata": {
        "colab": {
          "base_uri": "https://localhost:8080/",
          "height": 263
        },
        "id": "7wP2sNK2PnDl",
        "outputId": "35d873ee-2f4c-444f-949d-3028b076ef82"
      },
      "source": [
        "data['channel_type'] = data['channel_type'].fillna('unknown')\r\n",
        "data[data['target_flag'] != 0].groupby(\"channel_type\").apply(lambda x: x.mean())"
      ],
      "execution_count": null,
      "outputs": [
        {
          "output_type": "execute_result",
          "data": {
            "text/html": [
              "<div>\n",
              "<style scoped>\n",
              "    .dataframe tbody tr th:only-of-type {\n",
              "        vertical-align: middle;\n",
              "    }\n",
              "\n",
              "    .dataframe tbody tr th {\n",
              "        vertical-align: top;\n",
              "    }\n",
              "\n",
              "    .dataframe thead th {\n",
              "        text-align: right;\n",
              "    }\n",
              "</style>\n",
              "<table border=\"1\" class=\"dataframe\">\n",
              "  <thead>\n",
              "    <tr style=\"text-align: right;\">\n",
              "      <th></th>\n",
              "      <th>cl_id</th>\n",
              "      <th>MCC</th>\n",
              "      <th>currency</th>\n",
              "      <th>amount</th>\n",
              "      <th>target_flag</th>\n",
              "      <th>target_sum</th>\n",
              "    </tr>\n",
              "    <tr>\n",
              "      <th>channel_type</th>\n",
              "      <th></th>\n",
              "      <th></th>\n",
              "      <th></th>\n",
              "      <th></th>\n",
              "      <th></th>\n",
              "      <th></th>\n",
              "    </tr>\n",
              "  </thead>\n",
              "  <tbody>\n",
              "    <tr>\n",
              "      <th>type1</th>\n",
              "      <td>6344.099962</td>\n",
              "      <td>5705.559244</td>\n",
              "      <td>809.699514</td>\n",
              "      <td>6033.858149</td>\n",
              "      <td>1.0</td>\n",
              "      <td>147091.145828</td>\n",
              "    </tr>\n",
              "    <tr>\n",
              "      <th>type2</th>\n",
              "      <td>1728.767644</td>\n",
              "      <td>5705.900789</td>\n",
              "      <td>810.622791</td>\n",
              "      <td>5029.345316</td>\n",
              "      <td>1.0</td>\n",
              "      <td>357399.511522</td>\n",
              "    </tr>\n",
              "    <tr>\n",
              "      <th>type3</th>\n",
              "      <td>3348.452939</td>\n",
              "      <td>5734.524525</td>\n",
              "      <td>810.851083</td>\n",
              "      <td>4992.434017</td>\n",
              "      <td>1.0</td>\n",
              "      <td>118166.823168</td>\n",
              "    </tr>\n",
              "    <tr>\n",
              "      <th>type4</th>\n",
              "      <td>216.063768</td>\n",
              "      <td>5721.974203</td>\n",
              "      <td>811.986957</td>\n",
              "      <td>7560.944087</td>\n",
              "      <td>1.0</td>\n",
              "      <td>227130.042174</td>\n",
              "    </tr>\n",
              "    <tr>\n",
              "      <th>type5</th>\n",
              "      <td>102.122496</td>\n",
              "      <td>5708.771356</td>\n",
              "      <td>812.359429</td>\n",
              "      <td>5173.730465</td>\n",
              "      <td>1.0</td>\n",
              "      <td>103131.339807</td>\n",
              "    </tr>\n",
              "    <tr>\n",
              "      <th>unknown</th>\n",
              "      <td>28.590803</td>\n",
              "      <td>5700.192518</td>\n",
              "      <td>810.955573</td>\n",
              "      <td>4074.856500</td>\n",
              "      <td>1.0</td>\n",
              "      <td>193280.915246</td>\n",
              "    </tr>\n",
              "  </tbody>\n",
              "</table>\n",
              "</div>"
            ],
            "text/plain": [
              "                    cl_id          MCC  ...  target_flag     target_sum\n",
              "channel_type                            ...                            \n",
              "type1         6344.099962  5705.559244  ...          1.0  147091.145828\n",
              "type2         1728.767644  5705.900789  ...          1.0  357399.511522\n",
              "type3         3348.452939  5734.524525  ...          1.0  118166.823168\n",
              "type4          216.063768  5721.974203  ...          1.0  227130.042174\n",
              "type5          102.122496  5708.771356  ...          1.0  103131.339807\n",
              "unknown         28.590803  5700.192518  ...          1.0  193280.915246\n",
              "\n",
              "[6 rows x 6 columns]"
            ]
          },
          "metadata": {
            "tags": []
          },
          "execution_count": 6
        }
      ]
    },
    {
      "cell_type": "markdown",
      "metadata": {
        "id": "KVofKP9HXchy"
      },
      "source": [
        "Средние значения заметно различаются по каждому из каналов, признак важен."
      ]
    },
    {
      "cell_type": "code",
      "metadata": {
        "colab": {
          "base_uri": "https://localhost:8080/",
          "height": 386
        },
        "id": "7USmJn0EPjx0",
        "outputId": "64653a09-a640-41c0-9038-9c93ccd7a034"
      },
      "source": [
        "data[data['target_flag'] != 0].groupby(\"trx_category\").apply(lambda x: x.mean())"
      ],
      "execution_count": null,
      "outputs": [
        {
          "output_type": "execute_result",
          "data": {
            "text/html": [
              "<div>\n",
              "<style scoped>\n",
              "    .dataframe tbody tr th:only-of-type {\n",
              "        vertical-align: middle;\n",
              "    }\n",
              "\n",
              "    .dataframe tbody tr th {\n",
              "        vertical-align: top;\n",
              "    }\n",
              "\n",
              "    .dataframe thead th {\n",
              "        text-align: right;\n",
              "    }\n",
              "</style>\n",
              "<table border=\"1\" class=\"dataframe\">\n",
              "  <thead>\n",
              "    <tr style=\"text-align: right;\">\n",
              "      <th></th>\n",
              "      <th>cl_id</th>\n",
              "      <th>MCC</th>\n",
              "      <th>currency</th>\n",
              "      <th>amount</th>\n",
              "      <th>target_flag</th>\n",
              "      <th>target_sum</th>\n",
              "    </tr>\n",
              "    <tr>\n",
              "      <th>trx_category</th>\n",
              "      <th></th>\n",
              "      <th></th>\n",
              "      <th></th>\n",
              "      <th></th>\n",
              "      <th></th>\n",
              "      <th></th>\n",
              "    </tr>\n",
              "  </thead>\n",
              "  <tbody>\n",
              "    <tr>\n",
              "      <th>BACK_TRX</th>\n",
              "      <td>4335.154040</td>\n",
              "      <td>5516.674874</td>\n",
              "      <td>812.164773</td>\n",
              "      <td>8625.682241</td>\n",
              "      <td>1.0</td>\n",
              "      <td>315305.794110</td>\n",
              "    </tr>\n",
              "    <tr>\n",
              "      <th>C2C_IN</th>\n",
              "      <td>4217.832282</td>\n",
              "      <td>5299.117781</td>\n",
              "      <td>809.747289</td>\n",
              "      <td>14200.323168</td>\n",
              "      <td>1.0</td>\n",
              "      <td>150936.347675</td>\n",
              "    </tr>\n",
              "    <tr>\n",
              "      <th>C2C_OUT</th>\n",
              "      <td>3519.407084</td>\n",
              "      <td>5587.473842</td>\n",
              "      <td>810.000000</td>\n",
              "      <td>15571.884063</td>\n",
              "      <td>1.0</td>\n",
              "      <td>252781.401736</td>\n",
              "    </tr>\n",
              "    <tr>\n",
              "      <th>CASH_ADV</th>\n",
              "      <td>3668.555556</td>\n",
              "      <td>6010.000000</td>\n",
              "      <td>789.777778</td>\n",
              "      <td>21558.987778</td>\n",
              "      <td>1.0</td>\n",
              "      <td>148470.229444</td>\n",
              "    </tr>\n",
              "    <tr>\n",
              "      <th>CAT</th>\n",
              "      <td>2841.872910</td>\n",
              "      <td>5037.341137</td>\n",
              "      <td>810.000000</td>\n",
              "      <td>18718.962564</td>\n",
              "      <td>1.0</td>\n",
              "      <td>174063.315396</td>\n",
              "    </tr>\n",
              "    <tr>\n",
              "      <th>DEPOSIT</th>\n",
              "      <td>5366.851111</td>\n",
              "      <td>6012.244444</td>\n",
              "      <td>810.009091</td>\n",
              "      <td>27962.587637</td>\n",
              "      <td>1.0</td>\n",
              "      <td>135170.538065</td>\n",
              "    </tr>\n",
              "    <tr>\n",
              "      <th>POS</th>\n",
              "      <td>3931.305934</td>\n",
              "      <td>5675.578065</td>\n",
              "      <td>810.339022</td>\n",
              "      <td>2603.009868</td>\n",
              "      <td>1.0</td>\n",
              "      <td>255293.843255</td>\n",
              "    </tr>\n",
              "    <tr>\n",
              "      <th>WD_ATM_OTHER</th>\n",
              "      <td>2583.876747</td>\n",
              "      <td>6011.000000</td>\n",
              "      <td>805.103156</td>\n",
              "      <td>10725.748125</td>\n",
              "      <td>1.0</td>\n",
              "      <td>289490.021897</td>\n",
              "    </tr>\n",
              "    <tr>\n",
              "      <th>WD_ATM_PARTNER</th>\n",
              "      <td>3374.582946</td>\n",
              "      <td>6011.000000</td>\n",
              "      <td>810.087949</td>\n",
              "      <td>23741.571529</td>\n",
              "      <td>1.0</td>\n",
              "      <td>182328.310351</td>\n",
              "    </tr>\n",
              "    <tr>\n",
              "      <th>WD_ATM_ROS</th>\n",
              "      <td>3307.044827</td>\n",
              "      <td>6011.000000</td>\n",
              "      <td>810.493460</td>\n",
              "      <td>29660.835538</td>\n",
              "      <td>1.0</td>\n",
              "      <td>254919.351452</td>\n",
              "    </tr>\n",
              "  </tbody>\n",
              "</table>\n",
              "</div>"
            ],
            "text/plain": [
              "                      cl_id          MCC  ...  target_flag     target_sum\n",
              "trx_category                              ...                            \n",
              "BACK_TRX        4335.154040  5516.674874  ...          1.0  315305.794110\n",
              "C2C_IN          4217.832282  5299.117781  ...          1.0  150936.347675\n",
              "C2C_OUT         3519.407084  5587.473842  ...          1.0  252781.401736\n",
              "CASH_ADV        3668.555556  6010.000000  ...          1.0  148470.229444\n",
              "CAT             2841.872910  5037.341137  ...          1.0  174063.315396\n",
              "DEPOSIT         5366.851111  6012.244444  ...          1.0  135170.538065\n",
              "POS             3931.305934  5675.578065  ...          1.0  255293.843255\n",
              "WD_ATM_OTHER    2583.876747  6011.000000  ...          1.0  289490.021897\n",
              "WD_ATM_PARTNER  3374.582946  6011.000000  ...          1.0  182328.310351\n",
              "WD_ATM_ROS      3307.044827  6011.000000  ...          1.0  254919.351452\n",
              "\n",
              "[10 rows x 6 columns]"
            ]
          },
          "metadata": {
            "tags": []
          },
          "execution_count": 127
        }
      ]
    },
    {
      "cell_type": "markdown",
      "metadata": {
        "id": "SliSPEH0W5Bo"
      },
      "source": [
        "Средние значения *target_sum* различны для каждой из категорий *trx_category*, следовательно данный признак может стать репрезентативным для модели-регрессора."
      ]
    },
    {
      "cell_type": "code",
      "metadata": {
        "colab": {
          "base_uri": "https://localhost:8080/",
          "height": 287
        },
        "id": "aVWmwiAWZnbR",
        "outputId": "77c45ca5-0991-487e-a8ac-faa31ec5c7c5"
      },
      "source": [
        "representative = ['amount', 'currency', 'target_sum'] \r\n",
        "corr = data[representative][data['target_flag'] != 0].corr()\r\n",
        "sns.heatmap(corr, annot=True, cmap='coolwarm')"
      ],
      "execution_count": null,
      "outputs": [
        {
          "output_type": "execute_result",
          "data": {
            "text/plain": [
              "<matplotlib.axes._subplots.AxesSubplot at 0x7fc5ad3fff28>"
            ]
          },
          "metadata": {
            "tags": []
          },
          "execution_count": 9
        },
        {
          "output_type": "display_data",
          "data": {
            "image/png": "[encoded data removed]",
            "text/plain": [
              "<Figure size 432x288 with 2 Axes>"
            ]
          },
          "metadata": {
            "tags": [],
            "needs_background": "light"
          }
        }
      ]
    },
    {
      "cell_type": "markdown",
      "metadata": {
        "id": "-Leq7TQTZm8s"
      },
      "source": [
        "Корреляция между количественными переменными отсутствует."
      ]
    },
    {
      "cell_type": "markdown",
      "metadata": {
        "id": "pCr_YMsD4xx1"
      },
      "source": [
        "## Подготовка данных"
      ]
    },
    {
      "cell_type": "markdown",
      "metadata": {
        "id": "eCJW4MCmaTMg"
      },
      "source": [
        "На основании анализа переменных были выбраны следующие категориальные и непрерывные переменные."
      ]
    },
    {
      "cell_type": "code",
      "metadata": {
        "id": "FTb-U9o0aSZZ"
      },
      "source": [
        "data['channel_type'] = data['channel_type'].fillna('unknown')\r\n",
        "cat_features =['PERIOD', 'channel_type', 'trx_category']\r\n",
        "cont_features = ['amount' , 'currency']\r\n",
        "flag_feature = ['target_flag']"
      ],
      "execution_count": 7,
      "outputs": []
    },
    {
      "cell_type": "markdown",
      "metadata": {
        "id": "aRHUsHoAafdO"
      },
      "source": [
        "При проведении экспериментов, обнаружилось, что регрессор корректно использует переменную *target_flag* и предсказывает *target_sum*=0, если значение флага нулевое. "
      ]
    },
    {
      "cell_type": "code",
      "metadata": {
        "id": "bZdQ97wweL1g"
      },
      "source": [
        "def one_hot_transform(train, cat_features):\r\n",
        "  \"\"\"\r\n",
        "  Function for one-hot encoding of discrete variable\r\n",
        "  \"\"\"\r\n",
        "  final_columns = []\r\n",
        "\r\n",
        "  for feature in cat_features:\r\n",
        "    for category in np.unique(np.array(train[feature])):\r\n",
        "      train[category] = np.array([0]*len(train))\r\n",
        "      final_columns.append(category)\r\n",
        "\r\n",
        "    for i in range(len(train)):\r\n",
        "      train[train[feature][i]][i] = 1\r\n",
        "  \r\n",
        "  return train[final_columns]"
      ],
      "execution_count": 8,
      "outputs": []
    },
    {
      "cell_type": "code",
      "metadata": {
        "id": "6VJy29cuADNF"
      },
      "source": [
        "train_one_hot = one_hot_transform(data.copy(), cat_features)\r\n",
        "features = pd.concat((train_one_hot, data[cont_features], data[flag_feature]), axis=1)"
      ],
      "execution_count": 9,
      "outputs": []
    },
    {
      "cell_type": "markdown",
      "metadata": {
        "id": "eMYZnjRJ5BG2"
      },
      "source": [
        "## Обучение регрессора"
      ]
    },
    {
      "cell_type": "code",
      "metadata": {
        "id": "ySbK4659mQXW"
      },
      "source": [
        "X_train, X_test, y_train, y_test = train_test_split(features, data['target_sum'], \r\n",
        "                                                    test_size = 0.2, random_state=42)"
      ],
      "execution_count": 10,
      "outputs": []
    },
    {
      "cell_type": "markdown",
      "metadata": {
        "id": "jxNJcjhqMhfK"
      },
      "source": [
        "#### base RFRegressor"
      ]
    },
    {
      "cell_type": "code",
      "metadata": {
        "colab": {
          "base_uri": "https://localhost:8080/"
        },
        "id": "amwvZXRVgkvf",
        "outputId": "6803ca5f-d7a3-473a-d2fe-db2fb3e894fe"
      },
      "source": [
        "regressor = RandomForestRegressor(random_state=42)\r\n",
        "regressor.fit(X_train, y_train)\r\n",
        "y_pred = regressor.predict(X_test)\r\n",
        "\r\n",
        "mae = metrics.mean_absolute_error(y_pred, y_test)\r\n",
        "print(\"MAE: \", round(mae, 1))"
      ],
      "execution_count": null,
      "outputs": [
        {
          "output_type": "stream",
          "text": [
            "MAE:  196864.7\n"
          ],
          "name": "stdout"
        }
      ]
    },
    {
      "cell_type": "markdown",
      "metadata": {
        "id": "zzC_mn2JMjh2"
      },
      "source": [
        "#### RandomSearch параметров для регрессора"
      ]
    },
    {
      "cell_type": "code",
      "metadata": {
        "id": "LMd8mGvJsVav"
      },
      "source": [
        "regressor = RandomForestRegressor(random_state = 42)\r\n",
        "\r\n",
        "n_estimators = [int(x) for x in np.linspace(start = 50, stop = 150, num = 3)]\r\n",
        "max_depth = [60]\r\n",
        "max_depth.append(None)\r\n",
        "min_samples_split = [2, 6]\r\n",
        "min_samples_leaf = [2, 4]\r\n",
        "\r\n",
        "random_grid = {'n_estimators': n_estimators,\r\n",
        "               'max_features': max_features,\r\n",
        "               'max_depth': max_depth,\r\n",
        "               'min_samples_split': min_samples_split,\r\n",
        "               'min_samples_leaf': min_samples_leaf\r\n",
        "               }\r\n",
        "\r\n",
        "rf_random = RandomizedSearchCV(estimator = regressor, param_distributions = random_grid, \r\n",
        "                              random_state=42, n_jobs = -1)"
      ],
      "execution_count": null,
      "outputs": []
    },
    {
      "cell_type": "code",
      "metadata": {
        "colab": {
          "base_uri": "https://localhost:8080/"
        },
        "id": "Him7BEXNtIBn",
        "outputId": "e04927e3-0535-4c78-da90-4dea376e55cb"
      },
      "source": [
        "rf_random.fit(X_train, y_train)\r\n",
        "rf_random.best_params_"
      ],
      "execution_count": null,
      "outputs": [
        {
          "output_type": "execute_result",
          "data": {
            "text/plain": [
              "{'max_depth': None,\n",
              " 'max_features': 'sqrt',\n",
              " 'min_samples_leaf': 4,\n",
              " 'min_samples_split': 2,\n",
              " 'n_estimators': 100}"
            ]
          },
          "metadata": {
            "tags": []
          },
          "execution_count": 200
        }
      ]
    },
    {
      "cell_type": "markdown",
      "metadata": {
        "id": "V-igE4XLQJaU"
      },
      "source": [
        "#### Обучение регрессора с найденными параметрами"
      ]
    },
    {
      "cell_type": "code",
      "metadata": {
        "colab": {
          "base_uri": "https://localhost:8080/"
        },
        "id": "_85bSgINJaMT",
        "outputId": "8c089e17-33e2-4ccf-8c9f-401cafd1991c"
      },
      "source": [
        "regressor = RandomForestRegressor(random_state = 42, max_depth = None,\r\n",
        "                                  max_features = 'sqrt', min_samples_leaf = 4, \r\n",
        "                                  min_samples_split = 2, n_estimators = 100)\r\n",
        "\r\n",
        "regressor.fit(X_train, y_train)\r\n",
        "y_pred = regressor.predict(X_test)\r\n",
        "\r\n",
        "mae = metrics.mean_absolute_error(y_pred, y_test)\r\n",
        "print(\"MAE: \", round(mae, 1))"
      ],
      "execution_count": null,
      "outputs": [
        {
          "output_type": "stream",
          "text": [
            "MAE:  181776.0\n"
          ],
          "name": "stdout"
        }
      ]
    },
    {
      "cell_type": "markdown",
      "metadata": {
        "id": "oQvRxUR3QSAV"
      },
      "source": [
        "#### Обучение регрессора на прологарифмированный таргет"
      ]
    },
    {
      "cell_type": "markdown",
      "metadata": {
        "id": "C9iJzPomQYRa"
      },
      "source": [
        "* После предсказания производим операцию обратную логарифмированию. \r\n",
        "\r\n",
        "* Для семплов, в которых *target_flag* = 0, зануляем *target_sum*."
      ]
    },
    {
      "cell_type": "code",
      "metadata": {
        "colab": {
          "base_uri": "https://localhost:8080/"
        },
        "id": "cB9sy-ytKvuR",
        "outputId": "a92f3f74-4733-47da-df86-f1e00bf45738"
      },
      "source": [
        "regressor.fit(X_train, np.log(y_train+1))\r\n",
        "y_pred = regressor.predict(X_test)\r\n",
        "\r\n",
        "pred = np.exp(y_pred)-1\r\n",
        "pred[X_test['target_flag'] == 0] = 0\r\n",
        "\r\n",
        "mae = metrics.mean_absolute_error(pred, y_test)\r\n",
        "print(\"MAE: \", round(mae, 1))"
      ],
      "execution_count": null,
      "outputs": [
        {
          "output_type": "stream",
          "text": [
            "MAE:  138169.5\n"
          ],
          "name": "stdout"
        }
      ]
    },
    {
      "cell_type": "markdown",
      "metadata": {
        "id": "Lgwpv_fwRJ4S"
      },
      "source": [
        "Исходя из распределения для прологарифмированной *target_sum* (см. ячейку 5), оставим для обучения только те семплы, *log(target_sum)* которых находится в интервале значений от 7.5 до 15"
      ]
    },
    {
      "cell_type": "code",
      "metadata": {
        "colab": {
          "base_uri": "https://localhost:8080/"
        },
        "id": "VUJeWVXhOURA",
        "outputId": "815ddc63-885c-4080-b174-d9655bcf36f0"
      },
      "source": [
        "idxs = (np.log(y_train+1)>=7.5) * (np.log(y_train+1)<=15) \r\n",
        "\r\n",
        "regressor.fit(X_train[idxs], np.log(y_train[idxs]+1))\r\n",
        "y_pred = regressor.predict(X_test)\r\n",
        "\r\n",
        "y_pred = np.exp(y_pred)-1\r\n",
        "y_pred[X_test['target_flag'] == 0] = 0\r\n",
        "\r\n",
        "mae = metrics.mean_absolute_error(y_pred, y_test)\r\n",
        "print(\"MAE: \", round(mae, 1))"
      ],
      "execution_count": null,
      "outputs": [
        {
          "output_type": "stream",
          "text": [
            "MAE:  135667.6\n"
          ],
          "name": "stdout"
        }
      ]
    },
    {
      "cell_type": "markdown",
      "metadata": {
        "id": "ncP2HNRfS4zl"
      },
      "source": [
        "## XGBRegressor"
      ]
    },
    {
      "cell_type": "markdown",
      "metadata": {
        "id": "eFIlP0JZggWe"
      },
      "source": [
        "### Base"
      ]
    },
    {
      "cell_type": "code",
      "metadata": {
        "colab": {
          "base_uri": "https://localhost:8080/"
        },
        "id": "Hx6QHpt9PD1-",
        "outputId": "8772201d-e116-41f2-8e5b-95f51e50b9a3"
      },
      "source": [
        "model = xgb.XGBRegressor(max_depth=20, n_estimators=200, n_jobs=-1)\r\n",
        "\r\n",
        "model.fit(X_train, y_train)\r\n",
        "y_pred = model.predict(X_test)\r\n",
        "\r\n",
        "mae = metrics.mean_absolute_error(y_pred, y_test)\r\n",
        "print(\"MAE: \", round(mae, 1))"
      ],
      "execution_count": 11,
      "outputs": [
        {
          "output_type": "stream",
          "text": [
            "[12:15:58] WARNING: /workspace/src/objective/regression_obj.cu:152: reg:linear is now deprecated in favor of reg:squarederror.\n",
            "MAE:  195431.6\n"
          ],
          "name": "stdout"
        }
      ]
    },
    {
      "cell_type": "markdown",
      "metadata": {
        "id": "OeD5q77MfkSL"
      },
      "source": [
        "### Применим методы, которые давали прирост в качестве для RFRegressor\r\n",
        "* Обучение на логарифмированную целевую переменную\r\n",
        "* Отсечение хвостов распределения"
      ]
    },
    {
      "cell_type": "code",
      "metadata": {
        "colab": {
          "base_uri": "https://localhost:8080/"
        },
        "id": "PpWDwks1U8FW",
        "outputId": "1e025503-a4db-4f14-db08-ae722598fd91"
      },
      "source": [
        "model = xgb.XGBRegressor(max_depth=20, n_estimators=200, n_jobs=-1)\r\n",
        "\r\n",
        "idxs = (np.log(y_train+1)>=7.5) * (np.log(y_train+1)<=15) \r\n",
        "model.fit(X_train[idxs], np.log(y_train[idxs]+1))\r\n",
        "y_pred = model.predict(X_test)\r\n",
        "\r\n",
        "y_pred = np.exp(y_pred)-1\r\n",
        "y_pred[X_test['target_flag'] == 0] = 0\r\n",
        "\r\n",
        "mae = metrics.mean_absolute_error(y_pred, y_test)\r\n",
        "print(\"MAE: \", round(mae, 1))"
      ],
      "execution_count": 12,
      "outputs": [
        {
          "output_type": "stream",
          "text": [
            "/usr/local/lib/python3.6/dist-packages/pandas/core/computation/expressions.py:204: UserWarning: evaluating in Python space because the '*' operator is not supported by numexpr for the bool dtype, use '&' instead\n",
            "  f\"evaluating in Python space because the {repr(op_str)} \"\n"
          ],
          "name": "stderr"
        },
        {
          "output_type": "stream",
          "text": [
            "[12:31:07] WARNING: /workspace/src/objective/regression_obj.cu:152: reg:linear is now deprecated in favor of reg:squarederror.\n",
            "MAE:  135650.5\n"
          ],
          "name": "stdout"
        }
      ]
    },
    {
      "cell_type": "markdown",
      "metadata": {
        "id": "vRf0XBQO4TQF"
      },
      "source": [
        "Функционал ошибки схож c аналогичным для RandomForest "
      ]
    },
    {
      "cell_type": "markdown",
      "metadata": {
        "id": "zx0unfqKiS-S"
      },
      "source": [
        "### Сравнение метрик"
      ]
    },
    {
      "cell_type": "markdown",
      "metadata": {
        "id": "oA7_IPWvidcE"
      },
      "source": [
        "Подсчитаем MAE, если вместо предсказаний подставлять:\r\n",
        "* среднее значение *target_sum* из обучающей выборки для семплов с *target_flag=1*  \r\n",
        "* ноль для семплов с  target_flag=0"
      ]
    },
    {
      "cell_type": "code",
      "metadata": {
        "colab": {
          "base_uri": "https://localhost:8080/"
        },
        "id": "tjF8S8yz6-Bn",
        "outputId": "15edc2af-60c5-4388-fbd4-d3ffec61df5b"
      },
      "source": [
        "mean_target = y_train[X_train['target_flag'] != 0].mean()\r\n",
        "\r\n",
        "y_rough = np.array([mean_target] * len(y_test))\r\n",
        "y_rough[X_test['target_flag'] == 0] = 0\r\n",
        "\r\n",
        "mae = metrics.mean_absolute_error(y_rough, y_test)\r\n",
        "print(\"MAE for rough prediction: \", round(mae, 0))"
      ],
      "execution_count": 13,
      "outputs": [
        {
          "output_type": "stream",
          "text": [
            "MAE for rough prediction:  170317.0\n"
          ],
          "name": "stdout"
        }
      ]
    },
    {
      "cell_type": "markdown",
      "metadata": {
        "id": "rLVaiVGMn4eQ"
      },
      "source": [
        "## Результаты"
      ]
    },
    {
      "cell_type": "markdown",
      "metadata": {
        "id": "j6ajEUbLkhkp"
      },
      "source": [
        "* best MAE \r\n",
        "  \r\n",
        "  135 650.46\r\n",
        "\r\n",
        "* Разница MAE между \"грубым\" предсказанием и предсказанием XGBRegressor: \r\n",
        "  \r\n",
        "  34 666.5\r\n"
      ]
    },
    {
      "cell_type": "code",
      "metadata": {
        "id": "IVL3fUubpDdj"
      },
      "source": [
        ""
      ],
      "execution_count": null,
      "outputs": []
    }
  ]
}